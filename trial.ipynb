{
 "cells": [
  {
   "cell_type": "markdown",
   "id": "516f0c71",
   "metadata": {},
   "source": [
    "# importing libraries\n",
    "\n"
   ]
  },
  {
   "cell_type": "code",
   "execution_count": 41,
   "id": "76e6faa9",
   "metadata": {},
   "outputs": [],
   "source": [
    "                                                                                                                                                                                                                                                                                                                                                    import numpy as np\n",
    "import pandas as pd\n",
    "import matplotlib.pyplot as plt\n",
    "import seaborn as sns\n",
    "import tensorflow as tf"
   ]
  },
  {
   "cell_type": "markdown",
   "id": "0726f99c",
   "metadata": {},
   "source": [
    "# Reading the dataset"
   ]
  },
  {
   "cell_type": "code",
   "execution_count": 42,
   "id": "8c7d40a7",
   "metadata": {},
   "outputs": [
    {
     "data": {
      "text/html": [
       "<div>\n",
       "<style scoped>\n",
       "    .dataframe tbody tr th:only-of-type {\n",
       "        vertical-align: middle;\n",
       "    }\n",
       "\n",
       "    .dataframe tbody tr th {\n",
       "        vertical-align: top;\n",
       "    }\n",
       "\n",
       "    .dataframe thead th {\n",
       "        text-align: right;\n",
       "    }\n",
       "</style>\n",
       "<table border=\"1\" class=\"dataframe\">\n",
       "  <thead>\n",
       "    <tr style=\"text-align: right;\">\n",
       "      <th></th>\n",
       "      <th>Name</th>\n",
       "      <th>md5</th>\n",
       "      <th>Machine</th>\n",
       "      <th>SizeOfOptionalHeader</th>\n",
       "      <th>Characteristics</th>\n",
       "      <th>MajorLinkerVersion</th>\n",
       "      <th>MinorLinkerVersion</th>\n",
       "      <th>SizeOfCode</th>\n",
       "      <th>SizeOfInitializedData</th>\n",
       "      <th>SizeOfUninitializedData</th>\n",
       "      <th>...</th>\n",
       "      <th>ResourcesNb</th>\n",
       "      <th>ResourcesMeanEntropy</th>\n",
       "      <th>ResourcesMinEntropy</th>\n",
       "      <th>ResourcesMaxEntropy</th>\n",
       "      <th>ResourcesMeanSize</th>\n",
       "      <th>ResourcesMinSize</th>\n",
       "      <th>ResourcesMaxSize</th>\n",
       "      <th>LoadConfigurationSize</th>\n",
       "      <th>VersionInformationSize</th>\n",
       "      <th>legitimate</th>\n",
       "    </tr>\n",
       "  </thead>\n",
       "  <tbody>\n",
       "    <tr>\n",
       "      <th>0</th>\n",
       "      <td>memtest.exe</td>\n",
       "      <td>631ea355665f28d4707448e442fbf5b8</td>\n",
       "      <td>332</td>\n",
       "      <td>224</td>\n",
       "      <td>258</td>\n",
       "      <td>9</td>\n",
       "      <td>0</td>\n",
       "      <td>361984</td>\n",
       "      <td>115712</td>\n",
       "      <td>0</td>\n",
       "      <td>...</td>\n",
       "      <td>4</td>\n",
       "      <td>3.262823</td>\n",
       "      <td>2.568844</td>\n",
       "      <td>3.537939</td>\n",
       "      <td>8797.000000</td>\n",
       "      <td>216</td>\n",
       "      <td>18032</td>\n",
       "      <td>0</td>\n",
       "      <td>16</td>\n",
       "      <td>1</td>\n",
       "    </tr>\n",
       "    <tr>\n",
       "      <th>1</th>\n",
       "      <td>ose.exe</td>\n",
       "      <td>9d10f99a6712e28f8acd5641e3a7ea6b</td>\n",
       "      <td>332</td>\n",
       "      <td>224</td>\n",
       "      <td>3330</td>\n",
       "      <td>9</td>\n",
       "      <td>0</td>\n",
       "      <td>130560</td>\n",
       "      <td>19968</td>\n",
       "      <td>0</td>\n",
       "      <td>...</td>\n",
       "      <td>2</td>\n",
       "      <td>4.250461</td>\n",
       "      <td>3.420744</td>\n",
       "      <td>5.080177</td>\n",
       "      <td>837.000000</td>\n",
       "      <td>518</td>\n",
       "      <td>1156</td>\n",
       "      <td>72</td>\n",
       "      <td>18</td>\n",
       "      <td>1</td>\n",
       "    </tr>\n",
       "    <tr>\n",
       "      <th>2</th>\n",
       "      <td>setup.exe</td>\n",
       "      <td>4d92f518527353c0db88a70fddcfd390</td>\n",
       "      <td>332</td>\n",
       "      <td>224</td>\n",
       "      <td>3330</td>\n",
       "      <td>9</td>\n",
       "      <td>0</td>\n",
       "      <td>517120</td>\n",
       "      <td>621568</td>\n",
       "      <td>0</td>\n",
       "      <td>...</td>\n",
       "      <td>11</td>\n",
       "      <td>4.426324</td>\n",
       "      <td>2.846449</td>\n",
       "      <td>5.271813</td>\n",
       "      <td>31102.272727</td>\n",
       "      <td>104</td>\n",
       "      <td>270376</td>\n",
       "      <td>72</td>\n",
       "      <td>18</td>\n",
       "      <td>1</td>\n",
       "    </tr>\n",
       "    <tr>\n",
       "      <th>3</th>\n",
       "      <td>DW20.EXE</td>\n",
       "      <td>a41e524f8d45f0074fd07805ff0c9b12</td>\n",
       "      <td>332</td>\n",
       "      <td>224</td>\n",
       "      <td>258</td>\n",
       "      <td>9</td>\n",
       "      <td>0</td>\n",
       "      <td>585728</td>\n",
       "      <td>369152</td>\n",
       "      <td>0</td>\n",
       "      <td>...</td>\n",
       "      <td>10</td>\n",
       "      <td>4.364291</td>\n",
       "      <td>2.669314</td>\n",
       "      <td>6.400720</td>\n",
       "      <td>1457.000000</td>\n",
       "      <td>90</td>\n",
       "      <td>4264</td>\n",
       "      <td>72</td>\n",
       "      <td>18</td>\n",
       "      <td>1</td>\n",
       "    </tr>\n",
       "    <tr>\n",
       "      <th>4</th>\n",
       "      <td>dwtrig20.exe</td>\n",
       "      <td>c87e561258f2f8650cef999bf643a731</td>\n",
       "      <td>332</td>\n",
       "      <td>224</td>\n",
       "      <td>258</td>\n",
       "      <td>9</td>\n",
       "      <td>0</td>\n",
       "      <td>294912</td>\n",
       "      <td>247296</td>\n",
       "      <td>0</td>\n",
       "      <td>...</td>\n",
       "      <td>2</td>\n",
       "      <td>4.306100</td>\n",
       "      <td>3.421598</td>\n",
       "      <td>5.190603</td>\n",
       "      <td>1074.500000</td>\n",
       "      <td>849</td>\n",
       "      <td>1300</td>\n",
       "      <td>72</td>\n",
       "      <td>18</td>\n",
       "      <td>1</td>\n",
       "    </tr>\n",
       "  </tbody>\n",
       "</table>\n",
       "<p>5 rows × 57 columns</p>\n",
       "</div>"
      ],
      "text/plain": [
       "           Name                               md5  Machine  \\\n",
       "0   memtest.exe  631ea355665f28d4707448e442fbf5b8      332   \n",
       "1       ose.exe  9d10f99a6712e28f8acd5641e3a7ea6b      332   \n",
       "2     setup.exe  4d92f518527353c0db88a70fddcfd390      332   \n",
       "3      DW20.EXE  a41e524f8d45f0074fd07805ff0c9b12      332   \n",
       "4  dwtrig20.exe  c87e561258f2f8650cef999bf643a731      332   \n",
       "\n",
       "   SizeOfOptionalHeader  Characteristics  MajorLinkerVersion  \\\n",
       "0                   224              258                   9   \n",
       "1                   224             3330                   9   \n",
       "2                   224             3330                   9   \n",
       "3                   224              258                   9   \n",
       "4                   224              258                   9   \n",
       "\n",
       "   MinorLinkerVersion  SizeOfCode  SizeOfInitializedData  \\\n",
       "0                   0      361984                 115712   \n",
       "1                   0      130560                  19968   \n",
       "2                   0      517120                 621568   \n",
       "3                   0      585728                 369152   \n",
       "4                   0      294912                 247296   \n",
       "\n",
       "   SizeOfUninitializedData  ...  ResourcesNb  ResourcesMeanEntropy  \\\n",
       "0                        0  ...            4              3.262823   \n",
       "1                        0  ...            2              4.250461   \n",
       "2                        0  ...           11              4.426324   \n",
       "3                        0  ...           10              4.364291   \n",
       "4                        0  ...            2              4.306100   \n",
       "\n",
       "   ResourcesMinEntropy  ResourcesMaxEntropy  ResourcesMeanSize  \\\n",
       "0             2.568844             3.537939        8797.000000   \n",
       "1             3.420744             5.080177         837.000000   \n",
       "2             2.846449             5.271813       31102.272727   \n",
       "3             2.669314             6.400720        1457.000000   \n",
       "4             3.421598             5.190603        1074.500000   \n",
       "\n",
       "   ResourcesMinSize  ResourcesMaxSize  LoadConfigurationSize  \\\n",
       "0               216             18032                      0   \n",
       "1               518              1156                     72   \n",
       "2               104            270376                     72   \n",
       "3                90              4264                     72   \n",
       "4               849              1300                     72   \n",
       "\n",
       "   VersionInformationSize  legitimate  \n",
       "0                      16           1  \n",
       "1                      18           1  \n",
       "2                      18           1  \n",
       "3                      18           1  \n",
       "4                      18           1  \n",
       "\n",
       "[5 rows x 57 columns]"
      ]
     },
     "execution_count": 42,
     "metadata": {},
     "output_type": "execute_result"
    }
   ],
   "source": [
    "malData=pd.read_csv('MalwareData.csv',sep='|',low_memory=True)\n",
    "malData.head()"
   ]
  },
  {
   "cell_type": "code",
   "execution_count": 43,
   "id": "392b78a6",
   "metadata": {},
   "outputs": [
    {
     "data": {
      "text/plain": [
       "(138047, 57)"
      ]
     },
     "execution_count": 43,
     "metadata": {},
     "output_type": "execute_result"
    }
   ],
   "source": [
    "malData.shape"
   ]
  },
  {
   "cell_type": "code",
   "execution_count": 44,
   "id": "ff7260a9",
   "metadata": {},
   "outputs": [
    {
     "data": {
      "text/plain": [
       "0    96724\n",
       "1    41323\n",
       "Name: legitimate, dtype: int64"
      ]
     },
     "execution_count": 44,
     "metadata": {},
     "output_type": "execute_result"
    }
   ],
   "source": [
    "Y=malData['legitimate']\n",
    "Y.value_counts()\n"
   ]
  },
  {
   "cell_type": "code",
   "execution_count": 45,
   "id": "95e7adfa",
   "metadata": {},
   "outputs": [
    {
     "data": {
      "image/png": "[encoded data removed]",
      "text/plain": [
       "<Figure size 432x288 with 1 Axes>"
      ]
     },
     "metadata": {
      "needs_background": "light"
     },
     "output_type": "display_data"
    }
   ],
   "source": [
    "fig=plt.figure()\n",
    "ax=fig.add_axes([0,0,1,1])\n",
    "ax.hist(malData[\"legitimate\"],20)\n",
    "plt.show()"
   ]
  },
  {
   "cell_type": "markdown",
   "id": "84e804d8",
   "metadata": {},
   "source": [
    "# Data Processing"
   ]
  },
  {
   "cell_type": "code",
   "execution_count": 46,
   "id": "17e25e52",
   "metadata": {},
   "outputs": [],
   "source": [
    "X=malData.drop(['legitimate','Name','md5'],axis=1)"
   ]
  },
  {
   "cell_type": "code",
   "execution_count": 47,
   "id": "32f1a5d4",
   "metadata": {},
   "outputs": [
    {
     "data": {
      "text/plain": [
       "(138047, 54)"
      ]
     },
     "execution_count": 47,
     "metadata": {},
     "output_type": "execute_result"
    }
   ],
   "source": [
    "X.shape"
   ]
  },
  {
   "cell_type": "code",
   "execution_count": 48,
   "id": "31e7ff1c",
   "metadata": {},
   "outputs": [
    {
     "data": {
      "text/html": [
       "<div>\n",
       "<style scoped>\n",
       "    .dataframe tbody tr th:only-of-type {\n",
       "        vertical-align: middle;\n",
       "    }\n",
       "\n",
       "    .dataframe tbody tr th {\n",
       "        vertical-align: top;\n",
       "    }\n",
       "\n",
       "    .dataframe thead th {\n",
       "        text-align: right;\n",
       "    }\n",
       "</style>\n",
       "<table border=\"1\" class=\"dataframe\">\n",
       "  <thead>\n",
       "    <tr style=\"text-align: right;\">\n",
       "      <th></th>\n",
       "      <th>Machine</th>\n",
       "      <th>SizeOfOptionalHeader</th>\n",
       "      <th>Characteristics</th>\n",
       "      <th>MajorLinkerVersion</th>\n",
       "      <th>MinorLinkerVersion</th>\n",
       "      <th>SizeOfCode</th>\n",
       "      <th>SizeOfInitializedData</th>\n",
       "      <th>SizeOfUninitializedData</th>\n",
       "      <th>AddressOfEntryPoint</th>\n",
       "      <th>BaseOfCode</th>\n",
       "      <th>...</th>\n",
       "      <th>ExportNb</th>\n",
       "      <th>ResourcesNb</th>\n",
       "      <th>ResourcesMeanEntropy</th>\n",
       "      <th>ResourcesMinEntropy</th>\n",
       "      <th>ResourcesMaxEntropy</th>\n",
       "      <th>ResourcesMeanSize</th>\n",
       "      <th>ResourcesMinSize</th>\n",
       "      <th>ResourcesMaxSize</th>\n",
       "      <th>LoadConfigurationSize</th>\n",
       "      <th>VersionInformationSize</th>\n",
       "    </tr>\n",
       "  </thead>\n",
       "  <tbody>\n",
       "    <tr>\n",
       "      <th>121748</th>\n",
       "      <td>332</td>\n",
       "      <td>224</td>\n",
       "      <td>258</td>\n",
       "      <td>11</td>\n",
       "      <td>0</td>\n",
       "      <td>193024</td>\n",
       "      <td>132608</td>\n",
       "      <td>0</td>\n",
       "      <td>109585</td>\n",
       "      <td>4096</td>\n",
       "      <td>...</td>\n",
       "      <td>0</td>\n",
       "      <td>11</td>\n",
       "      <td>3.816872</td>\n",
       "      <td>2.303578</td>\n",
       "      <td>5.231432</td>\n",
       "      <td>2346.272727</td>\n",
       "      <td>132</td>\n",
       "      <td>9640</td>\n",
       "      <td>72</td>\n",
       "      <td>0</td>\n",
       "    </tr>\n",
       "    <tr>\n",
       "      <th>21308</th>\n",
       "      <td>332</td>\n",
       "      <td>224</td>\n",
       "      <td>8450</td>\n",
       "      <td>8</td>\n",
       "      <td>0</td>\n",
       "      <td>126976</td>\n",
       "      <td>49152</td>\n",
       "      <td>0</td>\n",
       "      <td>38583</td>\n",
       "      <td>4096</td>\n",
       "      <td>...</td>\n",
       "      <td>409</td>\n",
       "      <td>2</td>\n",
       "      <td>4.187227</td>\n",
       "      <td>3.288789</td>\n",
       "      <td>5.085664</td>\n",
       "      <td>498.000000</td>\n",
       "      <td>340</td>\n",
       "      <td>656</td>\n",
       "      <td>72</td>\n",
       "      <td>15</td>\n",
       "    </tr>\n",
       "    <tr>\n",
       "      <th>22770</th>\n",
       "      <td>332</td>\n",
       "      <td>224</td>\n",
       "      <td>8462</td>\n",
       "      <td>7</td>\n",
       "      <td>10</td>\n",
       "      <td>6656</td>\n",
       "      <td>4096</td>\n",
       "      <td>0</td>\n",
       "      <td>9095</td>\n",
       "      <td>4096</td>\n",
       "      <td>...</td>\n",
       "      <td>1</td>\n",
       "      <td>5</td>\n",
       "      <td>3.624229</td>\n",
       "      <td>2.980611</td>\n",
       "      <td>4.918510</td>\n",
       "      <td>485.200000</td>\n",
       "      <td>234</td>\n",
       "      <td>900</td>\n",
       "      <td>0</td>\n",
       "      <td>16</td>\n",
       "    </tr>\n",
       "    <tr>\n",
       "      <th>122938</th>\n",
       "      <td>332</td>\n",
       "      <td>224</td>\n",
       "      <td>258</td>\n",
       "      <td>10</td>\n",
       "      <td>0</td>\n",
       "      <td>119808</td>\n",
       "      <td>385024</td>\n",
       "      <td>0</td>\n",
       "      <td>61532</td>\n",
       "      <td>4096</td>\n",
       "      <td>...</td>\n",
       "      <td>0</td>\n",
       "      <td>6</td>\n",
       "      <td>3.752798</td>\n",
       "      <td>2.458492</td>\n",
       "      <td>5.317552</td>\n",
       "      <td>2738.833333</td>\n",
       "      <td>48</td>\n",
       "      <td>9640</td>\n",
       "      <td>72</td>\n",
       "      <td>15</td>\n",
       "    </tr>\n",
       "    <tr>\n",
       "      <th>136182</th>\n",
       "      <td>332</td>\n",
       "      <td>224</td>\n",
       "      <td>33167</td>\n",
       "      <td>2</td>\n",
       "      <td>25</td>\n",
       "      <td>278528</td>\n",
       "      <td>4096</td>\n",
       "      <td>667648</td>\n",
       "      <td>949008</td>\n",
       "      <td>671744</td>\n",
       "      <td>...</td>\n",
       "      <td>0</td>\n",
       "      <td>19</td>\n",
       "      <td>7.222760</td>\n",
       "      <td>3.750000</td>\n",
       "      <td>7.660458</td>\n",
       "      <td>886.210526</td>\n",
       "      <td>16</td>\n",
       "      <td>2720</td>\n",
       "      <td>0</td>\n",
       "      <td>0</td>\n",
       "    </tr>\n",
       "  </tbody>\n",
       "</table>\n",
       "<p>5 rows × 54 columns</p>\n",
       "</div>"
      ],
      "text/plain": [
       "        Machine  SizeOfOptionalHeader  Characteristics  MajorLinkerVersion  \\\n",
       "121748      332                   224              258                  11   \n",
       "21308       332                   224             8450                   8   \n",
       "22770       332                   224             8462                   7   \n",
       "122938      332                   224              258                  10   \n",
       "136182      332                   224            33167                   2   \n",
       "\n",
       "        MinorLinkerVersion  SizeOfCode  SizeOfInitializedData  \\\n",
       "121748                   0      193024                 132608   \n",
       "21308                    0      126976                  49152   \n",
       "22770                   10        6656                   4096   \n",
       "122938                   0      119808                 385024   \n",
       "136182                  25      278528                   4096   \n",
       "\n",
       "        SizeOfUninitializedData  AddressOfEntryPoint  BaseOfCode  ...  \\\n",
       "121748                        0               109585        4096  ...   \n",
       "21308                         0                38583        4096  ...   \n",
       "22770                         0                 9095        4096  ...   \n",
       "122938                        0                61532        4096  ...   \n",
       "136182                   667648               949008      671744  ...   \n",
       "\n",
       "        ExportNb  ResourcesNb  ResourcesMeanEntropy  ResourcesMinEntropy  \\\n",
       "121748         0           11              3.816872             2.303578   \n",
       "21308        409            2              4.187227             3.288789   \n",
       "22770          1            5              3.624229             2.980611   \n",
       "122938         0            6              3.752798             2.458492   \n",
       "136182         0           19              7.222760             3.750000   \n",
       "\n",
       "        ResourcesMaxEntropy  ResourcesMeanSize  ResourcesMinSize  \\\n",
       "121748             5.231432        2346.272727               132   \n",
       "21308              5.085664         498.000000               340   \n",
       "22770              4.918510         485.200000               234   \n",
       "122938             5.317552        2738.833333                48   \n",
       "136182             7.660458         886.210526                16   \n",
       "\n",
       "        ResourcesMaxSize  LoadConfigurationSize  VersionInformationSize  \n",
       "121748              9640                     72                       0  \n",
       "21308                656                     72                      15  \n",
       "22770                900                      0                      16  \n",
       "122938              9640                     72                      15  \n",
       "136182              2720                      0                       0  \n",
       "\n",
       "[5 rows x 54 columns]"
      ]
     },
     "execution_count": 48,
     "metadata": {},
     "output_type": "execute_result"
    }
   ],
   "source": [
    "\n",
    "from sklearn.model_selection import train_test_split\n",
    "x_train,x_test,y_train,y_test=train_test_split(X,Y,test_size=0.2,random_state=1)\n",
    "\n",
    "from sklearn.preprocessing import StandardScaler\n",
    "\n",
    "scaler = StandardScaler()\n",
    "x_train.head()"
   ]
  },
  {
   "cell_type": "code",
   "execution_count": 49,
   "id": "ea6b5c84",
   "metadata": {},
   "outputs": [],
   "source": [
    "x_train = scaler.fit_transform(x_train)\n",
    "x_test = scaler.fit_transform(x_test)\n",
    "\n"
   ]
  },
  {
   "cell_type": "code",
   "execution_count": 50,
   "id": "1e9a1d7f",
   "metadata": {},
   "outputs": [
    {
     "data": {
      "text/plain": [
       "(110437, 54)"
      ]
     },
     "execution_count": 50,
     "metadata": {},
     "output_type": "execute_result"
    }
   ],
   "source": [
    "x_train.shape"
   ]
  },
  {
   "cell_type": "markdown",
   "id": "e0645d1a",
   "metadata": {},
   "source": [
    "# Model Creation "
   ]
  },
  {
   "cell_type": "code",
   "execution_count": 51,
   "id": "cd29ffd7",
   "metadata": {},
   "outputs": [
    {
     "name": "stdout",
     "output_type": "stream",
     "text": [
      "Model: \"sequential_2\"\n",
      "_________________________________________________________________\n",
      " Layer (type)                Output Shape              Param #   \n",
      "=================================================================\n",
      " dense_14 (Dense)            (None, 80)                4400      \n",
      "                                                                 \n",
      " dense_15 (Dense)            (None, 80)                6480      \n",
      "                                                                 \n",
      " dense_16 (Dense)            (None, 80)                6480      \n",
      "                                                                 \n",
      " dense_17 (Dense)            (None, 80)                6480      \n",
      "                                                                 \n",
      " dense_18 (Dense)            (None, 80)                6480      \n",
      "                                                                 \n",
      " dense_19 (Dense)            (None, 80)                6480      \n",
      "                                                                 \n",
      " dense_20 (Dense)            (None, 2)                 162       \n",
      "                                                                 \n",
      "=================================================================\n",
      "Total params: 36,962\n",
      "Trainable params: 36,962\n",
      "Non-trainable params: 0\n",
      "_________________________________________________________________\n"
     ]
    }
   ],
   "source": [
    "#Number of Features\n",
    "input_size = 54\n",
    "\n",
    "#Number of Outputs\n",
    "output_size = 2\n",
    "\n",
    "hidden_layer_size = 80\n",
    "    \n",
    "# define how the model will look like\n",
    "model = tf.keras.Sequential([\n",
    "    tf.keras.layers.Dense(hidden_layer_size, input_shape=(input_size,), activation='relu'), # 1st hidden layer\n",
    "    tf.keras.layers.Dense(hidden_layer_size, activation='relu'),\n",
    "    tf.keras.layers.Dense(hidden_layer_size, activation='relu'),\n",
    "    tf.keras.layers.Dense(hidden_layer_size, activation='relu'),\n",
    "    tf.keras.layers.Dense(hidden_layer_size, activation='relu'),\n",
    "    tf.keras.layers.Dense(hidden_layer_size, activation='relu'),\n",
    "    tf.keras.layers.Dense(output_size, activation='softmax') # output layer\n",
    "])\n",
    "\n",
    "model.summary()"
   ]
  },
  {
   "cell_type": "code",
   "execution_count": 52,
   "id": "486bd7ac",
   "metadata": {},
   "outputs": [],
   "source": [
    "model.compile(optimizer='adam', loss='sparse_categorical_crossentropy', metrics=['accuracy'])\n",
    "#configuring model for training\n",
    "#sparse crossentropy produces a category index of the most likely matching category\n",
    "#adam = adaptive movement. Effective when working with large data, memory efficient "
   ]
  },
  {
   "cell_type": "code",
   "execution_count": 53,
   "id": "56d97fad",
   "metadata": {},
   "outputs": [],
   "source": [
    "# set the batch size\n",
    "batch_size = 100\n",
    "\n",
    "# set a maximum number of training cycles\n",
    "#epochs indicate the number of passes of the entire training dataset the ml algorithm has completed\n",
    "max_epochs = 20\n",
    "\n",
    "# set an early stopping mechanism\n",
    "# let's set patience=2, to be a bit tolerant against random validation loss increases\n",
    "early_stopping = tf.keras.callbacks.EarlyStopping(patience=2)\n",
    "#if any 3 epochs have same value, so it stops executing"
   ]
  },
  {
   "cell_type": "markdown",
   "id": "bfadfe41",
   "metadata": {},
   "source": [
    "# Training"
   ]
  },
  {
   "cell_type": "code",
   "execution_count": 54,
   "id": "23ff2c23",
   "metadata": {},
   "outputs": [
    {
     "name": "stdout",
     "output_type": "stream",
     "text": [
      "Epoch 1/20\n"
     ]
    },
    {
     "name": "stderr",
     "output_type": "stream",
     "text": [
      "/home/vishwanath/.local/lib/python3.10/site-packages/keras/engine/data_adapter.py:1696: FutureWarning: The behavior of `series[i:j]` with an integer-dtype index is deprecated. In a future version, this will be treated as *label-based* indexing, consistent with e.g. `series[i]` lookups. To retain the old behavior, use `series.iloc[i:j]`. To get the future behavior, use `series.loc[i:j]`.\n",
      "  return t[start:end]\n"
     ]
    },
    {
     "name": "stdout",
     "output_type": "stream",
     "text": [
      "884/884 [==============================] - 7s 6ms/step - loss: 0.0623 - accuracy: 0.9815 - val_loss: 0.0333 - val_accuracy: 0.9890\n",
      "Epoch 2/20\n",
      "884/884 [==============================] - 5s 6ms/step - loss: 0.0343 - accuracy: 0.9890 - val_loss: 0.0318 - val_accuracy: 0.9898\n",
      "Epoch 3/20\n",
      "884/884 [==============================] - 5s 6ms/step - loss: 0.0330 - accuracy: 0.9897 - val_loss: 0.0298 - val_accuracy: 0.9905\n",
      "Epoch 4/20\n",
      "884/884 [==============================] - 5s 6ms/step - loss: 0.0290 - accuracy: 0.9902 - val_loss: 0.0282 - val_accuracy: 0.9910\n",
      "Epoch 5/20\n",
      "884/884 [==============================] - 5s 6ms/step - loss: 0.0272 - accuracy: 0.9909 - val_loss: 0.0301 - val_accuracy: 0.9899\n",
      "Epoch 6/20\n",
      "884/884 [==============================] - 5s 6ms/step - loss: 0.0261 - accuracy: 0.9913 - val_loss: 0.0271 - val_accuracy: 0.9904\n",
      "Epoch 7/20\n",
      "884/884 [==============================] - 5s 6ms/step - loss: 0.0249 - accuracy: 0.9917 - val_loss: 0.0273 - val_accuracy: 0.9904\n",
      "Epoch 8/20\n",
      "884/884 [==============================] - 5s 6ms/step - loss: 0.0239 - accuracy: 0.9920 - val_loss: 0.0254 - val_accuracy: 0.9911\n",
      "Epoch 9/20\n",
      "884/884 [==============================] - 5s 6ms/step - loss: 0.0224 - accuracy: 0.9926 - val_loss: 0.0283 - val_accuracy: 0.9902\n",
      "Epoch 10/20\n",
      "884/884 [==============================] - 5s 6ms/step - loss: 0.0220 - accuracy: 0.9927 - val_loss: 0.0267 - val_accuracy: 0.9912\n",
      "Epoch 11/20\n",
      "884/884 [==============================] - 5s 6ms/step - loss: 0.0216 - accuracy: 0.9928 - val_loss: 0.0257 - val_accuracy: 0.9909\n",
      "Epoch 12/20\n",
      "884/884 [==============================] - 5s 6ms/step - loss: 0.0198 - accuracy: 0.9930 - val_loss: 0.0254 - val_accuracy: 0.9916\n",
      "Epoch 13/20\n",
      "884/884 [==============================] - 5s 6ms/step - loss: 0.0194 - accuracy: 0.9933 - val_loss: 0.0290 - val_accuracy: 0.9913\n",
      "Epoch 14/20\n",
      "884/884 [==============================] - 5s 6ms/step - loss: 0.0181 - accuracy: 0.9938 - val_loss: 0.0263 - val_accuracy: 0.9924\n",
      "Epoch 15/20\n",
      "884/884 [==============================] - 5s 6ms/step - loss: 0.0172 - accuracy: 0.9939 - val_loss: 0.0272 - val_accuracy: 0.9919\n",
      "Epoch 16/20\n",
      "884/884 [==============================] - 5s 6ms/step - loss: 0.0173 - accuracy: 0.9941 - val_loss: 0.0270 - val_accuracy: 0.9914\n",
      "Epoch 17/20\n",
      "884/884 [==============================] - 5s 6ms/step - loss: 0.0172 - accuracy: 0.9941 - val_loss: 0.0261 - val_accuracy: 0.9923\n",
      "Epoch 18/20\n",
      "884/884 [==============================] - 5s 6ms/step - loss: 0.0171 - accuracy: 0.9940 - val_loss: 0.0291 - val_accuracy: 0.9908\n",
      "Epoch 19/20\n",
      "884/884 [==============================] - 5s 6ms/step - loss: 0.0158 - accuracy: 0.9947 - val_loss: 0.0256 - val_accuracy: 0.9918\n",
      "Epoch 20/20\n",
      "884/884 [==============================] - 5s 6ms/step - loss: 0.0151 - accuracy: 0.9948 - val_loss: 0.0269 - val_accuracy: 0.9921\n"
     ]
    }
   ],
   "source": [
    "\n",
    "result = model.fit(x=x_train,\n",
    "                   y=y_train,\n",
    "                   batch_size=batch_size,\n",
    "                   epochs=max_epochs,\n",
    "                   verbose=1,\n",
    "                   #callbacks=[early_stopping],\n",
    "                   validation_split=0.2)\n"
   ]
  },
  {
   "cell_type": "code",
   "execution_count": 55,
   "id": "3aa0495f",
   "metadata": {},
   "outputs": [
    {
     "data": {
      "image/png": "[encoded data removed]",
      "text/plain": [
       "<Figure size 432x288 with 1 Axes>"
      ]
     },
     "metadata": {
      "needs_background": "light"
     },
     "output_type": "display_data"
    },
    {
     "data": {
      "image/png": "[encoded data removed]",
      "text/plain": [
       "<Figure size 432x288 with 1 Axes>"
      ]
     },
     "metadata": {
      "needs_background": "light"
     },
     "output_type": "display_data"
    }
   ],
   "source": [
    "# Visualize the result\n",
    "plt.plot(result.history['accuracy'], label='train')\n",
    "plt.legend(loc='upper left')\n",
    "plt.title('Model accuracy')\n",
    "plt.ylabel('Accuracy')\n",
    "plt.xlabel('Cycle')\n",
    "plt.show()\n",
    "plt.plot(result.history['loss'], label='train')\n",
    "plt.legend(loc='upper right')\n",
    "plt.title('Model Cost')\n",
    "plt.ylabel('Cost')\n",
    "plt.xlabel('Cycle')\n",
    "plt.show()"
   ]
  },
  {
   "cell_type": "code",
   "execution_count": 56,
   "id": "c2824e0d",
   "metadata": {},
   "outputs": [
    {
     "name": "stdout",
     "output_type": "stream",
     "text": [
      "863/863 [==============================] - 2s 3ms/step - loss: 0.1311 - accuracy: 0.9839\n",
      "\n",
      "Test loss: 0.131097. Test accuracy: 98.388267%\n"
     ]
    }
   ],
   "source": [
    "test_loss, test_accuracy = model.evaluate(x_test, y_test)\n",
    "\n",
    "print('\\nTest loss: {0:.6f}. Test accuracy: {1:.6f}%'.format(test_loss, test_accuracy*100.))\n",
    "#evaluate tells us about accuracy and total loss"
   ]
  },
  {
   "cell_type": "code",
   "execution_count": 57,
   "id": "308b0de0",
   "metadata": {},
   "outputs": [
    {
     "name": "stdout",
     "output_type": "stream",
     "text": [
      "Epoch 11/30\n",
      "884/884 [==============================] - 5s 6ms/step - loss: 0.0143 - accuracy: 0.9951 - val_loss: 0.0276 - val_accuracy: 0.9915\n",
      "Epoch 12/30\n",
      "884/884 [==============================] - 5s 6ms/step - loss: 0.0146 - accuracy: 0.9951 - val_loss: 0.0293 - val_accuracy: 0.9922\n",
      "Epoch 13/30\n",
      "884/884 [==============================] - 5s 6ms/step - loss: 0.0137 - accuracy: 0.9954 - val_loss: 0.0325 - val_accuracy: 0.9930\n"
     ]
    }
   ],
   "source": [
    "#to increase the accuracy we train the model again \n",
    "result = model.fit(x=x_train,\n",
    "                   y=y_train,\n",
    "                   batch_size=batch_size,\n",
    "                   epochs=30,\n",
    "                   verbose=1,\n",
    "                   initial_epoch=10, #start from epoch 11\n",
    "                   callbacks=[early_stopping], #prevent overfitting\n",
    "                   validation_split=0.2)"
   ]
  },
  {
   "cell_type": "code",
   "execution_count": 58,
   "id": "10afbca0",
   "metadata": {},
   "outputs": [
    {
     "data": {
      "image/png": "[encoded data removed]",
      "text/plain": [
       "<Figure size 432x288 with 1 Axes>"
      ]
     },
     "metadata": {
      "needs_background": "light"
     },
     "output_type": "display_data"
    },
    {
     "data": {
      "image/png": "[encoded data removed]",
      "text/plain": [
       "<Figure size 432x288 with 1 Axes>"
      ]
     },
     "metadata": {
      "needs_background": "light"
     },
     "output_type": "display_data"
    }
   ],
   "source": [
    "# Visualize the result\n",
    "plt.plot(result.history['accuracy'], label='train')\n",
    "plt.legend(loc='upper left')\n",
    "plt.title('Model accuracy')\n",
    "plt.ylabel('Accuracy')\n",
    "plt.xlabel('Cycle')\n",
    "plt.show()\n",
    "plt.plot(result.history['loss'], label='train')\n",
    "plt.legend(loc='upper right')\n",
    "plt.title('Model Cost')\n",
    "plt.ylabel('Cost')\n",
    "plt.xlabel('Cycle')\n",
    "plt.show()"
   ]
  },
  {
   "cell_type": "code",
   "execution_count": 59,
   "id": "7775dfe7",
   "metadata": {},
   "outputs": [
    {
     "name": "stdout",
     "output_type": "stream",
     "text": [
      "863/863 [==============================] - 2s 3ms/step - loss: 0.1995 - accuracy: 0.9781\n",
      "\n",
      "Test loss: 0.199530. Test accuracy: 97.808766%\n"
     ]
    }
   ],
   "source": [
    "test_loss, test_accuracy = model.evaluate(x_test, y_test)\n",
    "\n",
    "print('\\nTest loss: {0:.6f}. Test accuracy: {1:.6f}%'.format(test_loss, test_accuracy*100.))\n"
   ]
  },
  {
   "cell_type": "code",
   "execution_count": 60,
   "id": "8d533450",
   "metadata": {},
   "outputs": [
    {
     "name": "stdout",
     "output_type": "stream",
     "text": [
      "Keras weights file (<HDF5 file \"variables.h5\" (mode r+)>) saving:\n",
      "...layers\n",
      "......dense\n",
      ".........vars\n",
      "............0\n",
      "............1\n",
      "......dense_1\n",
      ".........vars\n",
      "............0\n",
      "............1\n",
      "......dense_2\n",
      ".........vars\n",
      "............0\n",
      "............1\n",
      "......dense_3\n",
      ".........vars\n",
      "............0\n",
      "............1\n",
      "......dense_4\n",
      ".........vars\n",
      "............0\n",
      "............1\n",
      "......dense_5\n",
      ".........vars\n",
      "............0\n",
      "............1\n",
      "......dense_6\n",
      ".........vars\n",
      "............0\n",
      "............1\n",
      "...metrics\n",
      "......mean\n",
      ".........vars\n",
      "............0\n",
      "............1\n",
      "......mean_metric_wrapper\n",
      ".........vars\n",
      "............0\n",
      "............1\n",
      "...optimizer\n",
      "......vars\n",
      ".........0\n",
      ".........1\n",
      ".........10\n",
      ".........11\n",
      ".........12\n",
      ".........13\n",
      ".........14\n",
      ".........15\n",
      ".........16\n",
      ".........17\n",
      ".........18\n",
      ".........19\n",
      ".........2\n",
      ".........20\n",
      ".........21\n",
      ".........22\n",
      ".........23\n",
      ".........24\n",
      ".........25\n",
      ".........26\n",
      ".........27\n",
      ".........28\n",
      ".........3\n",
      ".........4\n",
      ".........5\n",
      ".........6\n",
      ".........7\n",
      ".........8\n",
      ".........9\n",
      "...vars\n",
      "Keras model archive saving:\n",
      "File Name                                             Modified             Size\n",
      "variables.h5                                   2023-04-17 14:31:04       484040\n",
      "config.json                                    2023-04-17 14:31:04         3546\n",
      "metadata.json                                  2023-04-17 14:31:04           64\n"
     ]
    }
   ],
   "source": [
    "import pickle\n",
    "pickle.dump(model,open('model8.pkl','wb'))"
   ]
  }
 ],
 "metadata": {
  "kernelspec": {
   "display_name": "Python 3 (ipykernel)",
   "language": "python",
   "name": "python3"
  },
  "language_info": {
   "codemirror_mode": {
    "name": "ipython",
    "version": 3
   },
   "file_extension": ".py",
   "mimetype": "text/x-python",
   "name": "python",
   "nbconvert_exporter": "python",
   "pygments_lexer": "ipython3",
   "version": "3.10.6"
  }
 },
 "nbformat": 4,
 "nbformat_minor": 5
}
